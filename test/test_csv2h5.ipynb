{
 "cells": [
  {
   "cell_type": "code",
   "execution_count": null,
   "metadata": {},
   "outputs": [],
   "source": [
    "import pandas as pd\n",
    "import h5py\n",
    "import numpy as np\n",
    "import os\n",
    "\n",
    "def csv_to_h5_and_csv(csv_file, h5_file, string_csv_file, chunk_size=100000):\n",
    "    \"\"\"\n",
    "    將 CSV 檔案轉換為 H5 格式（數值欄位）和 CSV 格式（字串欄位）。\n",
    "\n",
    "    Args:\n",
    "        csv_file (str): 輸入的 CSV 檔案路徑。\n",
    "        h5_file (str): 輸出的 H5 檔案路徑。\n",
    "        string_csv_file(str): 輸出的字串csv檔案路徑。\n",
    "        chunk_size (int): 每次讀取的 CSV 行數。\n",
    "    \"\"\"\n",
    "    # 讀取 CSV 檔案，並指定資料類型\n",
    "    reader = pd.read_csv(csv_file, chunksize=chunk_size)\n",
    "    string_data = [] #儲存字串資料\n",
    "    for i, chunk in enumerate(reader):\n",
    "        if i == 0:\n",
    "            string_data = chunk[['Title', 'Abstract', 'Authors', 'Journal', 'Keyword']].copy()\n",
    "            numerical_data = chunk[['PMID', 'Year']].copy()\n",
    "        else:\n",
    "            string_data = pd.concat([string_data, chunk[['Title', 'Abstract', 'Authors', 'Journal', 'Keyword']]])\n",
    "            numerical_data = pd.concat([numerical_data, chunk[['PMID', 'Year']]])\n",
    "    string_data.to_csv(string_csv_file, index=False)\n",
    "    with h5py.File(h5_file, 'w') as hf:\n",
    "        hf.create_dataset('PMID', data=numerical_data['PMID'].values)\n",
    "        hf.create_dataset('Year', data=numerical_data['Year'].values)\n",
    "\n",
    "# 使用範例\n",
    "csv_file_path = \"../data/pubmed_baseline/merged_output.csv\"\n",
    "h5_file_path = 'merged_output.h5'\n",
    "string_csv_file_path = 'merged_output_string.csv'\n",
    "csv_to_h5_and_csv(csv_file_path, h5_file_path, string_csv_file_path)"
   ]
  },
  {
   "cell_type": "code",
   "execution_count": null,
   "metadata": {},
   "outputs": [],
   "source": []
  }
 ],
 "metadata": {
  "kernelspec": {
   "display_name": "rag",
   "language": "python",
   "name": "python3"
  },
  "language_info": {
   "codemirror_mode": {
    "name": "ipython",
    "version": 3
   },
   "file_extension": ".py",
   "mimetype": "text/x-python",
   "name": "python",
   "nbconvert_exporter": "python",
   "pygments_lexer": "ipython3",
   "version": "3.9.21"
  }
 },
 "nbformat": 4,
 "nbformat_minor": 2
}
