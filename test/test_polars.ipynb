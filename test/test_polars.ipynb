{
 "cells": [
  {
   "cell_type": "code",
   "execution_count": 1,
   "metadata": {},
   "outputs": [],
   "source": [
    "import polars as pl\n",
    "\n",
    "csv_path = \"../data/pubmed_baseline/merged_output.csv\" \n",
    "df = pl.read_csv(csv_path)"
   ]
  },
  {
   "cell_type": "code",
   "execution_count": 2,
   "metadata": {},
   "outputs": [
    {
     "name": "stdout",
     "output_type": "stream",
     "text": [
      "shape: (5, 7)\n",
      "┌──────────┬───────────────┬───────────────┬───────────────┬────────┬───────────────┬──────────────┐\n",
      "│ PMID     ┆ Title         ┆ Abstract      ┆ Authors       ┆ Year   ┆ Journal       ┆ Keyword      │\n",
      "│ ---      ┆ ---           ┆ ---           ┆ ---           ┆ ---    ┆ ---           ┆ ---          │\n",
      "│ i64      ┆ str           ┆ str           ┆ str           ┆ f64    ┆ str           ┆ str          │\n",
      "╞══════════╪═══════════════╪═══════════════╪═══════════════╪════════╪═══════════════╪══════════════╡\n",
      "│ 14037354 ┆ A note on the ┆ A             ┆ C H PLAICE    ┆ 1961.0 ┆ Journal of    ┆ CARBOHYDRASE │\n",
      "│          ┆ determination ┆ modification  ┆               ┆        ┆ clinical      ┆ S/blood      │\n",
      "│          ┆ of…           ┆ of the method ┆               ┆        ┆ pathology     ┆              │\n",
      "│          ┆               ┆ o…            ┆               ┆        ┆               ┆              │\n",
      "│ 14037399 ┆ Retention as  ┆ The effects   ┆ L POSTMAN     ┆ 1962.0 ┆ Science (New  ┆ LEARNING     │\n",
      "│          ┆ a function of ┆ of            ┆               ┆        ┆ York, N.Y.)   ┆              │\n",
      "│          ┆ deg…          ┆ overlearning  ┆               ┆        ┆               ┆              │\n",
      "│          ┆               ┆ on…           ┆               ┆        ┆               ┆              │\n",
      "│ 14037573 ┆ Nonsaponifiab ┆ Rothblat,     ┆ G H ROTHBLAT, ┆ 1961.0 ┆ Journal of    ┆ PLEUROPNEUMO │\n",
      "│          ┆ le lipids of  ┆ George H.     ┆ P F SMITH     ┆        ┆ bacteriology  ┆ NIA-LIKE     │\n",
      "│          ┆ repr…         ┆ (Universit…   ┆               ┆        ┆               ┆ ORGANISMS…   │\n",
      "│ 14037613 ┆ The nature of ┆ This paper    ┆ E H SADUN, R  ┆ 1962.0 ┆ Bulletin of   ┆ SCHISTOSOMIA │\n",
      "│          ┆ flurescent    ┆ describes     ┆ I ANDERSON, J ┆        ┆ the World     ┆ SIS/diagnosi │\n",
      "│          ┆ antib…        ┆ studies i…    ┆ S W…          ┆        ┆ Health O…     ┆ s            │\n",
      "│ 14037756 ┆ Antigenic     ┆ An erythrocyt ┆ SPIRAD, A     ┆ 1962.0 ┆ Science (New  ┆ ANTIGENS&PLA │\n",
      "│          ┆ structure of  ┆ e-free        ┆ ZUCKERMAN     ┆        ┆ York, N.Y.)   ┆ SMODIUM/immu │\n",
      "│          ┆ Plasmod…      ┆ preparatio…   ┆               ┆        ┆               ┆ nology       │\n",
      "└──────────┴───────────────┴───────────────┴───────────────┴────────┴───────────────┴──────────────┘\n"
     ]
    }
   ],
   "source": [
    "print(df.head())"
   ]
  },
  {
   "cell_type": "code",
   "execution_count": 3,
   "metadata": {},
   "outputs": [],
   "source": [
    "import h5py\n",
    "\n",
    "# 分離數值和字串欄位\n",
    "numerical_cols = ['PMID', 'Year']\n",
    "string_cols = ['Title', 'Abstract', 'Authors', 'Journal', 'Keyword']\n",
    "\n",
    "numerical_df = df.select(numerical_cols)\n",
    "string_df = df.select(string_cols)\n",
    "\n",
    "# 將字串資料儲存為 CSV\n",
    "string_df.write_csv('merged_output_string.csv')\n",
    "\n",
    "# 將數值資料儲存為 H5\n",
    "with h5py.File('merged_output.h5', 'w') as hf:\n",
    "    for col in numerical_cols:\n",
    "        hf.create_dataset(col, data=numerical_df[col].to_numpy())"
   ]
  }
 ],
 "metadata": {
  "kernelspec": {
   "display_name": "rag",
   "language": "python",
   "name": "python3"
  },
  "language_info": {
   "codemirror_mode": {
    "name": "ipython",
    "version": 3
   },
   "file_extension": ".py",
   "mimetype": "text/x-python",
   "name": "python",
   "nbconvert_exporter": "python",
   "pygments_lexer": "ipython3",
   "version": "3.9.21"
  }
 },
 "nbformat": 4,
 "nbformat_minor": 2
}
