{
 "cells": [
  {
   "cell_type": "code",
   "execution_count": 3,
   "metadata": {},
   "outputs": [],
   "source": [
    "import faiss\n",
    "import numpy as np"
   ]
  },
  {
   "cell_type": "code",
   "execution_count": 4,
   "metadata": {},
   "outputs": [],
   "source": [
    "# 建立索引\n",
    "embeddings = np.random.rand(1000, 768).astype('float32')\n",
    "index = faiss.IndexFlatL2(768)\n",
    "index.add(embeddings)\n",
    "\n",
    "# 儲存索引至磁碟\n",
    "faiss.write_index(index, 'my_index.faiss')\n",
    "\n",
    "# 重新載入索引\n",
    "index = faiss.read_index('my_index.faiss')\n",
    "\n",
    "# 查詢\n",
    "query_vector = np.random.rand(1, 768).astype('float32')\n",
    "D, I = index.search(query_vector, k=5)"
   ]
  },
  {
   "cell_type": "code",
   "execution_count": null,
   "metadata": {},
   "outputs": [],
   "source": []
  }
 ],
 "metadata": {
  "kernelspec": {
   "display_name": "rag",
   "language": "python",
   "name": "python3"
  },
  "language_info": {
   "codemirror_mode": {
    "name": "ipython",
    "version": 3
   },
   "file_extension": ".py",
   "mimetype": "text/x-python",
   "name": "python",
   "nbconvert_exporter": "python",
   "pygments_lexer": "ipython3",
   "version": "3.9.21"
  }
 },
 "nbformat": 4,
 "nbformat_minor": 2
}
