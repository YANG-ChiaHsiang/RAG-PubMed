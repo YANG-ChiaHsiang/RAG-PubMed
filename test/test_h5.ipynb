{
 "cells": [
  {
   "cell_type": "code",
   "execution_count": null,
   "metadata": {},
   "outputs": [],
   "source": [
    "df = pd.DataFrame([[1, 1.0, 'a']], columns=['x', 'y', 'z'])  \n",
    "df.to_hdf('./store.h5', 'data')  \n",
    "reread = pd.read_hdf('./store.h5')  "
   ]
  }
 ],
 "metadata": {
  "language_info": {
   "name": "python"
  }
 },
 "nbformat": 4,
 "nbformat_minor": 2
}
