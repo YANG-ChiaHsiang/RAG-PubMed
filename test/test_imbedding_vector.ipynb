{
 "cells": [
  {
   "cell_type": "markdown",
   "metadata": {},
   "source": [
    "# Embedding"
   ]
  },
  {
   "cell_type": "code",
   "execution_count": 1,
   "metadata": {},
   "outputs": [
    {
     "data": {
      "text/html": [
       "<div>\n",
       "<style scoped>\n",
       "    .dataframe tbody tr th:only-of-type {\n",
       "        vertical-align: middle;\n",
       "    }\n",
       "\n",
       "    .dataframe tbody tr th {\n",
       "        vertical-align: top;\n",
       "    }\n",
       "\n",
       "    .dataframe thead th {\n",
       "        text-align: right;\n",
       "    }\n",
       "</style>\n",
       "<table border=\"1\" class=\"dataframe\">\n",
       "  <thead>\n",
       "    <tr style=\"text-align: right;\">\n",
       "      <th></th>\n",
       "      <th>PMID</th>\n",
       "      <th>Title</th>\n",
       "      <th>Abstract</th>\n",
       "      <th>Authors</th>\n",
       "      <th>Year</th>\n",
       "      <th>Journal</th>\n",
       "      <th>Keyword</th>\n",
       "    </tr>\n",
       "  </thead>\n",
       "  <tbody>\n",
       "    <tr>\n",
       "      <th>0</th>\n",
       "      <td>39764487</td>\n",
       "      <td>Can gut microbiota explain acute diverticuliti...</td>\n",
       "      <td>Why patients with symptomatic uncomplicated di...</td>\n",
       "      <td>Antonio Tursi, Giorgia Procaccianti, Federica ...</td>\n",
       "      <td>2025.0</td>\n",
       "      <td>Bioscience of microbiota, food and health</td>\n",
       "      <td>acute diverticulitis&amp;gut microbiota&amp;symptomati...</td>\n",
       "    </tr>\n",
       "    <tr>\n",
       "      <th>1</th>\n",
       "      <td>39764488</td>\n",
       "      <td>Effects of moderate beer consumption on immuni...</td>\n",
       "      <td>Beer contains a variety of bioactive ingredien...</td>\n",
       "      <td>Shumin Hu, Hua Yin, Xiaxia Li, Minghao Fan, Hu...</td>\n",
       "      <td>2025.0</td>\n",
       "      <td>Bioscience of microbiota, food and health</td>\n",
       "      <td>alcoholic beer&amp;cyclophosphamide&amp;gut microbiome...</td>\n",
       "    </tr>\n",
       "    <tr>\n",
       "      <th>2</th>\n",
       "      <td>39764489</td>\n",
       "      <td>Gut microbiota involvement in the effect of wa...</td>\n",
       "      <td>The beneficial effects of water-soluble dietar...</td>\n",
       "      <td>Satoshi Sato, Chikara Iino, Daisuke Chinda, Ta...</td>\n",
       "      <td>2025.0</td>\n",
       "      <td>Bioscience of microbiota, food and health</td>\n",
       "      <td>fatty liver&amp;fibrosis&amp;gut microbiota&amp;water-solu...</td>\n",
       "    </tr>\n",
       "    <tr>\n",
       "      <th>3</th>\n",
       "      <td>39764490</td>\n",
       "      <td>Impact of container type on the microbiome of ...</td>\n",
       "      <td>Airag, a fermented mare's milk in Mongolia, ex...</td>\n",
       "      <td>Akari Shinoda, Yuri Koga, Ryouta Tsuchiya, Bat...</td>\n",
       "      <td>2025.0</td>\n",
       "      <td>Bioscience of microbiota, food and health</td>\n",
       "      <td>Lactobacillus helveticus&amp;Mongolia&amp;airag&amp;fermen...</td>\n",
       "    </tr>\n",
       "    <tr>\n",
       "      <th>4</th>\n",
       "      <td>39764493</td>\n",
       "      <td>α-Lipoic acid increases phagocytosis of some l...</td>\n",
       "      <td>Phagocytosis by immunocompetent cells is a key...</td>\n",
       "      <td>Naoto Nomura, Nobuo Miyadai, Ichiro Kawase</td>\n",
       "      <td>2025.0</td>\n",
       "      <td>Bioscience of microbiota, food and health</td>\n",
       "      <td>CD36&amp;flow cytometer&amp;high-performance liquid ch...</td>\n",
       "    </tr>\n",
       "  </tbody>\n",
       "</table>\n",
       "</div>"
      ],
      "text/plain": [
       "       PMID                                              Title  \\\n",
       "0  39764487  Can gut microbiota explain acute diverticuliti...   \n",
       "1  39764488  Effects of moderate beer consumption on immuni...   \n",
       "2  39764489  Gut microbiota involvement in the effect of wa...   \n",
       "3  39764490  Impact of container type on the microbiome of ...   \n",
       "4  39764493  α-Lipoic acid increases phagocytosis of some l...   \n",
       "\n",
       "                                            Abstract  \\\n",
       "0  Why patients with symptomatic uncomplicated di...   \n",
       "1  Beer contains a variety of bioactive ingredien...   \n",
       "2  The beneficial effects of water-soluble dietar...   \n",
       "3  Airag, a fermented mare's milk in Mongolia, ex...   \n",
       "4  Phagocytosis by immunocompetent cells is a key...   \n",
       "\n",
       "                                             Authors    Year  \\\n",
       "0  Antonio Tursi, Giorgia Procaccianti, Federica ...  2025.0   \n",
       "1  Shumin Hu, Hua Yin, Xiaxia Li, Minghao Fan, Hu...  2025.0   \n",
       "2  Satoshi Sato, Chikara Iino, Daisuke Chinda, Ta...  2025.0   \n",
       "3  Akari Shinoda, Yuri Koga, Ryouta Tsuchiya, Bat...  2025.0   \n",
       "4         Naoto Nomura, Nobuo Miyadai, Ichiro Kawase  2025.0   \n",
       "\n",
       "                                     Journal  \\\n",
       "0  Bioscience of microbiota, food and health   \n",
       "1  Bioscience of microbiota, food and health   \n",
       "2  Bioscience of microbiota, food and health   \n",
       "3  Bioscience of microbiota, food and health   \n",
       "4  Bioscience of microbiota, food and health   \n",
       "\n",
       "                                             Keyword  \n",
       "0  acute diverticulitis&gut microbiota&symptomati...  \n",
       "1  alcoholic beer&cyclophosphamide&gut microbiome...  \n",
       "2  fatty liver&fibrosis&gut microbiota&water-solu...  \n",
       "3  Lactobacillus helveticus&Mongolia&airag&fermen...  \n",
       "4  CD36&flow cytometer&high-performance liquid ch...  "
      ]
     },
     "execution_count": 1,
     "metadata": {},
     "output_type": "execute_result"
    }
   ],
   "source": [
    "import pandas as pd\n",
    "\n",
    "df = pd.read_csv('../data/pubmed_baseline/csv/pubmed25n1274.csv')\n",
    "df.head()"
   ]
  },
  {
   "cell_type": "code",
   "execution_count": 2,
   "metadata": {},
   "outputs": [
    {
     "name": "stderr",
     "output_type": "stream",
     "text": [
      "/home/louis900412/anaconda3/envs/rag/lib/python3.9/site-packages/tqdm/auto.py:21: TqdmWarning: IProgress not found. Please update jupyter and ipywidgets. See https://ipywidgets.readthedocs.io/en/stable/user_install.html\n",
      "  from .autonotebook import tqdm as notebook_tqdm\n"
     ]
    }
   ],
   "source": [
    "import torch\n",
    "from transformers import AutoTokenizer, AutoModel\n",
    "\n",
    "# 選擇設備\n",
    "device = \"cuda\" if torch.cuda.is_available() else \"mps\" if torch.backends.mps.is_available() else \"cpu\""
   ]
  },
  {
   "cell_type": "code",
   "execution_count": 3,
   "metadata": {},
   "outputs": [],
   "source": [
    "# 載入 Tokenizer & Model\n",
    "# model_name = \"jinaai/jina-embeddings-v3\"\n",
    "model_name = \"abhinand/MedEmbed-base-v0.1\"\n",
    "tokenizer = AutoTokenizer.from_pretrained(model_name, trust_remote_code=True)\n",
    "model = AutoModel.from_pretrained(model_name, trust_remote_code=True).to(device)"
   ]
  },
  {
   "cell_type": "code",
   "execution_count": 4,
   "metadata": {},
   "outputs": [],
   "source": [
    "# 修正：將 BFloat16 轉換為 Float32\n",
    "def generate_embedding(text):\n",
    "    inputs = tokenizer(text, return_tensors=\"pt\", padding=True, truncation=True).to(device)\n",
    "    with torch.no_grad():\n",
    "        outputs = model(**inputs).last_hidden_state  # 所有 token 的輸出\n",
    "    embedding = outputs.mean(dim=1)  # 均值池化\n",
    "    return embedding.to(torch.float32).cpu().numpy().flatten()"
   ]
  },
  {
   "cell_type": "code",
   "execution_count": 5,
   "metadata": {},
   "outputs": [
    {
     "name": "stdout",
     "output_type": "stream",
     "text": [
      "(768,)\n"
     ]
    }
   ],
   "source": [
    "query = \"Image & Contrastive Learning\"\n",
    "embedding = generate_embedding(query)\n",
    "print(embedding.shape)  # 應該是 (768,) 或 (1024,) 取決於模型"
   ]
  },
  {
   "cell_type": "markdown",
   "metadata": {},
   "source": [
    "# Vector Database"
   ]
  },
  {
   "cell_type": "code",
   "execution_count": 6,
   "metadata": {},
   "outputs": [],
   "source": [
    "import faiss\n",
    "import numpy as np\n",
    "\n",
    "# 設定 embedding 維度（根據 jinaai/jina-embeddings-v3，應該是 1024 維）\n",
    "embedding_dim = 768  \n",
    "index = faiss.IndexFlatIP(embedding_dim)  # 使用 L2 距離（內積 IndexFlatIP 也可以）\n",
    "\n",
    "# 儲存 metadata\n",
    "paper_metadata = []"
   ]
  },
  {
   "cell_type": "code",
   "execution_count": 7,
   "metadata": {},
   "outputs": [
    {
     "name": "stderr",
     "output_type": "stream",
     "text": [
      "100%|██████████| 11553/11553 [01:21<00:00, 141.96it/s]\n"
     ]
    }
   ],
   "source": [
    "import pandas as pd\n",
    "from tqdm import tqdm\n",
    "\n",
    "# 計算 embedding 並存入 FAISS\n",
    "all_embeddings = []\n",
    "for _, row in tqdm(df.iterrows(), total=len(df)):\n",
    "    text = f\"{row['Title']} {row['Abstract']}\"  # 合併標題與摘要\n",
    "    embedding = generate_embedding(text)  # 轉換成 embedding\n",
    "    all_embeddings.append(embedding)\n",
    "    paper_metadata.append({\"PMID\": row[\"PMID\"], \"Title\": row[\"Title\"], \"Abstract\": row[\"Abstract\"], \"Year\": row[\"Year\"]})\n",
    "\n",
    "# 轉換為 FAISS 格式並儲存\n",
    "all_embeddings = np.array(all_embeddings).astype(\"float32\")\n",
    "index.add(all_embeddings)\n",
    "\n",
    "# 儲存 FAISS 索引與 metadata\n",
    "faiss.write_index(index, \"pubmed_index.faiss\")\n",
    "np.save(\"pubmed_metadata.npy\", paper_metadata)"
   ]
  },
  {
   "cell_type": "code",
   "execution_count": null,
   "metadata": {},
   "outputs": [
    {
     "name": "stdout",
     "output_type": "stream",
     "text": [
      "Title: The utility of renal sonographic measurements in differentiating children with grades 2, 3, and 4 hydronephrosis.\n",
      "Abstract: Prior analysis of children with grade 3 and 4 congenital hydronephrosis demonstrated that renal medullary pyramidal thickness (PT) is predictive of subsequent pyeloplasty (area under the curve [AUC] = 0.78). The objective of this study was to further analyze the utility of sonographic measurements including PT, anteroposterior pelvic diameter (APD), and renal length with an expansion of the number of infants with hydronephrotic kidneys including grades 2, 3, and 4 hydronephrosis.\n",
      "Year: 2024.0\n",
      "\n",
      "Title: Advancements in Elastography for Evaluating Fibrosis in Renal Transplants: Current Perspectives.\n",
      "Abstract: Renal fibrosis is a leading cause of chronic allograft nephropathy. While renal biopsy remains the gold standard for diagnosing fibrosis, it is an invasive procedure with potential for severe complications. Elastography, an emerging ultrasound imaging technique, appears to be a valuable tool for quantifying tissue stiffness, which correlates with fibrosis. Indeed, numerous studies have demonstrated a strong correlation between increased tissue stiffness, measured by elastography, and the degree of fibrosis detected in biopsy. Over the past few years, various elastography techniques have been evaluated, including strain elastography, shear wave elastography, and acoustic radiation force impulse. However, challenges such as operator dependence, tissue heterogeneity, and the lack of standardized protocols persist. Despite these limitations, elastography presents itself as a valuable tool for the non-invasive monitoring of renal transplant function and could facilitate the early detection of fibrosis, allowing for timely interventions. Future research should focus on standardizing acquisition protocols, establishing robust reference values, and exploring the clinical utility of elastography in guiding therapeutic decisions. The aim of this review is to explore the current state of elastography in the assessment of fibrosis in renal transplantation.\n",
      "Year: 2024.0\n",
      "\n"
     ]
    },
    {
     "ename": "",
     "evalue": "",
     "output_type": "error",
     "traceback": [
      "\u001b[1;31mThe Kernel crashed while executing code in the current cell or a previous cell. \n",
      "\u001b[1;31mPlease review the code in the cell(s) to identify a possible cause of the failure. \n",
      "\u001b[1;31mClick <a href='https://aka.ms/vscodeJupyterKernelCrash'>here</a> for more info. \n",
      "\u001b[1;31mView Jupyter <a href='command:jupyter.viewOutput'>log</a> for further details."
     ]
    }
   ],
   "source": [
    "import numpy as np\n",
    "\n",
    "def search_papers(query, top_k=5, threshold=0.5):\n",
    "    index = faiss.read_index(\"pubmed_index.faiss\")\n",
    "    metadata = np.load(\"pubmed_metadata.npy\", allow_pickle=True)\n",
    "\n",
    "    query_emb = np.array(generate_embedding(query)).reshape(1, -1).astype(\"float32\")\n",
    "\n",
    "    # 執行檢索\n",
    "    D, I = index.search(query_emb, top_k)\n",
    "\n",
    "    # 過濾掉相似度低於 threshold 的結果\n",
    "    results = []\n",
    "    for i, idx in enumerate(I[0]):\n",
    "        if idx < len(metadata) and D[0][i] >= threshold:\n",
    "            paper = metadata[idx]\n",
    "            if paper and isinstance(paper.get(\"Title\"), str) and isinstance(paper.get(\"Abstract\"), str):\n",
    "                results.append(paper)\n",
    "\n",
    "    return results\n",
    "\n",
    "# 測試查詢\n",
    "query = \"Kidney ultrasound\"\n",
    "search_results = search_papers(query, top_k=3)\n",
    "for paper in search_results:\n",
    "    print(f\"Title: {paper.get('Title', 'N/A')}\\nAbstract: {paper.get('Abstract', 'N/A')}\\nYear: {paper.get('Year', 'N/A')}\\n\")"
   ]
  },
  {
   "cell_type": "code",
   "execution_count": null,
   "metadata": {},
   "outputs": [],
   "source": []
  }
 ],
 "metadata": {
  "kernelspec": {
   "display_name": "rag",
   "language": "python",
   "name": "python3"
  },
  "language_info": {
   "codemirror_mode": {
    "name": "ipython",
    "version": 3
   },
   "file_extension": ".py",
   "mimetype": "text/x-python",
   "name": "python",
   "nbconvert_exporter": "python",
   "pygments_lexer": "ipython3",
   "version": "3.9.21"
  }
 },
 "nbformat": 4,
 "nbformat_minor": 2
}
